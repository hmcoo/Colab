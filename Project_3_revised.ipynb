{
  "nbformat": 4,
  "nbformat_minor": 0,
  "metadata": {
    "colab": {
      "name": "Project_3_revised.ipynb",
      "provenance": [],
      "collapsed_sections": [],
      "include_colab_link": true
    },
    "kernelspec": {
      "name": "python3",
      "display_name": "Python 3"
    }
  },
  "cells": [
    {
      "cell_type": "markdown",
      "metadata": {
        "id": "view-in-github",
        "colab_type": "text"
      },
      "source": [
        "<a href=\"https://colab.research.google.com/github/hmcoo/Colab/blob/master/Project_3_revised.ipynb\" target=\"_parent\"><img src=\"https://colab.research.google.com/assets/colab-badge.svg\" alt=\"Open In Colab\"/></a>"
      ]
    },
    {
      "cell_type": "code",
      "metadata": {
        "id": "lZEqoEB3pq7y",
        "colab_type": "code",
        "colab": {
          "base_uri": "https://localhost:8080/",
          "height": 34
        },
        "outputId": "f23a3a71-31cc-4d56-95d6-e6357d56602e"
      },
      "source": [
        "import tensorflow\n",
        "import keras\n",
        "from keras.datasets import mnist\n",
        "from keras.models import Sequential\n",
        "from keras.layers import Dense, Dropout, Flatten\n",
        "from keras.layers import Conv2D, MaxPooling2D\n",
        "from keras import backend as K\n",
        "import matplotlib.pyplot as plt\n"
      ],
      "execution_count": 1,
      "outputs": [
        {
          "output_type": "stream",
          "text": [
            "Using TensorFlow backend.\n"
          ],
          "name": "stderr"
        }
      ]
    },
    {
      "cell_type": "code",
      "metadata": {
        "id": "oZdozqFqpwwP",
        "colab_type": "code",
        "outputId": "4c1ca3e7-9490-4140-80a1-fb2c4cb673a5",
        "colab": {
          "base_uri": "https://localhost:8080/",
          "height": 69
        }
      },
      "source": [
        "batch_size = 128\n",
        "num_classes = 10\n",
        "epochs = 12\n",
        "\n",
        "# input image dimensions\n",
        "img_rows, img_cols = 28, 28\n",
        "\n",
        "# the data, split between train and test sets\n",
        "(x_train, y_train), (x_test, y_test) = mnist.load_data()\n",
        "\n",
        "if K.image_data_format() == 'channels_first':\n",
        "    x_train = x_train.reshape(x_train.shape[0], 1, img_rows, img_cols)\n",
        "    x_test = x_test.reshape(x_test.shape[0], 1, img_rows, img_cols)\n",
        "    input_shape = (1, img_rows, img_cols)\n",
        "#     input_shape1 = (2, img_rows, img_cols)\n",
        "else:\n",
        "    x_train = x_train.reshape(x_train.shape[0], img_rows, img_cols, 1)\n",
        "    x_test = x_test.reshape(x_test.shape[0], img_rows, img_cols, 1)\n",
        "    input_shape = (img_rows, img_cols, 1)\n",
        "#     input_shape1 = (img_rows, img_cols, 2)\n",
        "\n",
        "x_train = x_train.astype('float32')\n",
        "    \n",
        "x_test = x_test.astype('float32')\n",
        "x_train /= 255\n",
        "x_test /= 255\n",
        "print('x_train shape:', x_train.shape)\n",
        "print(x_train.shape[0], 'train samples')\n",
        "print(x_test.shape[0], 'test samples')"
      ],
      "execution_count": 2,
      "outputs": [
        {
          "output_type": "stream",
          "text": [
            "x_train shape: (60000, 28, 28, 1)\n",
            "60000 train samples\n",
            "10000 test samples\n"
          ],
          "name": "stdout"
        }
      ]
    },
    {
      "cell_type": "code",
      "metadata": {
        "id": "fdCaLpMRqjue",
        "colab_type": "code",
        "colab": {
          "base_uri": "https://localhost:8080/",
          "height": 176
        },
        "outputId": "06974573-c5fa-444d-fc87-9536394779c4"
      },
      "source": [
        "# convert class vectors to binary class matrices\n",
        "y_train0 = keras.utils.to_categorical(y_train, num_classes)\n",
        "y_test0 = keras.utils.to_categorical(y_test, num_classes)\n",
        "\n",
        "model = Sequential()\n",
        "model.add(Conv2D(6, kernel_size=(3, 3),\n",
        "                 activation='relu',\n",
        "                 input_shape=input_shape))\n",
        "model.add(MaxPooling2D(pool_size=(2, 2)))\n",
        "model.add(Conv2D(16, (3, 3), activation='relu'))\n",
        "model.add(MaxPooling2D(pool_size=(2, 2)))\n",
        "model.add(Flatten())\n",
        "model.add(Dense(120, activation='relu'))\n",
        "model.add(Dense(84, activation='relu'))\n",
        "\n",
        "model.add(Dense(num_classes, activation='softmax'))\n"
      ],
      "execution_count": 3,
      "outputs": [
        {
          "output_type": "stream",
          "text": [
            "WARNING:tensorflow:From /usr/local/lib/python3.6/dist-packages/keras/backend/tensorflow_backend.py:66: The name tf.get_default_graph is deprecated. Please use tf.compat.v1.get_default_graph instead.\n",
            "\n",
            "WARNING:tensorflow:From /usr/local/lib/python3.6/dist-packages/keras/backend/tensorflow_backend.py:541: The name tf.placeholder is deprecated. Please use tf.compat.v1.placeholder instead.\n",
            "\n",
            "WARNING:tensorflow:From /usr/local/lib/python3.6/dist-packages/keras/backend/tensorflow_backend.py:4432: The name tf.random_uniform is deprecated. Please use tf.random.uniform instead.\n",
            "\n",
            "WARNING:tensorflow:From /usr/local/lib/python3.6/dist-packages/keras/backend/tensorflow_backend.py:4267: The name tf.nn.max_pool is deprecated. Please use tf.nn.max_pool2d instead.\n",
            "\n"
          ],
          "name": "stdout"
        }
      ]
    },
    {
      "cell_type": "code",
      "metadata": {
        "id": "Yo6y1_u2yK41",
        "colab_type": "code",
        "colab": {}
      },
      "source": [
        "# # convert class vectors to binary class matrices\n",
        "y_train1 = keras.utils.to_categorical(y_train, num_classes)\n",
        "y_test1 = keras.utils.to_categorical(y_test, num_classes)\n",
        "\n",
        "model_kernel = Sequential()\n",
        "model_kernel.add(Conv2D(6, kernel_size=(5, 5),\n",
        "                 activation='relu',\n",
        "                 input_shape=input_shape))\n",
        "model_kernel.add(MaxPooling2D(pool_size=(2, 2)))\n",
        "model_kernel.add(Conv2D(16, (5, 5), activation='relu'))\n",
        "model_kernel.add(MaxPooling2D(pool_size=(2, 2)))\n",
        "model_kernel.add(Flatten())\n",
        "model_kernel.add(Dense(120, activation='relu'))\n",
        "model_kernel.add(Dense(84, activation='relu'))\n",
        "\n",
        "model_kernel.add(Dense(num_classes, activation='softmax'))\n"
      ],
      "execution_count": 0,
      "outputs": []
    },
    {
      "cell_type": "code",
      "metadata": {
        "id": "XtIuqysnMATb",
        "colab_type": "code",
        "colab": {}
      },
      "source": [
        "y_train2 = keras.utils.to_categorical(y_train, num_classes)\n",
        "y_test2 = keras.utils.to_categorical(y_test, num_classes)\n",
        "\n",
        "model_fmaps = Sequential()\n",
        "model_fmaps.add(Conv2D(12, kernel_size=(3, 3),\n",
        "                 activation='relu',\n",
        "                 input_shape=input_shape))\n",
        "model_fmaps.add(MaxPooling2D(pool_size=(2, 2)))\n",
        "model_fmaps.add(Conv2D(24, (3, 3), activation='relu'))\n",
        "model_fmaps.add(MaxPooling2D(pool_size=(2, 2)))\n",
        "model_fmaps.add(Flatten())\n",
        "model_fmaps.add(Dense(120, activation='relu'))\n",
        "model_fmaps.add(Dense(84, activation='relu'))\n",
        "\n",
        "model_fmaps.add(Dense(num_classes, activation='softmax'))\n"
      ],
      "execution_count": 0,
      "outputs": []
    },
    {
      "cell_type": "code",
      "metadata": {
        "id": "8n33G3DRIV8h",
        "colab_type": "code",
        "outputId": "3e29fd76-78ff-446e-f02c-dfe26d918f10",
        "colab": {
          "base_uri": "https://localhost:8080/",
          "height": 1000
        }
      },
      "source": [
        "model.summary()\n",
        "model_kernel.summary()\n",
        "model_fmaps.summary()"
      ],
      "execution_count": 6,
      "outputs": [
        {
          "output_type": "stream",
          "text": [
            "Model: \"sequential_1\"\n",
            "_________________________________________________________________\n",
            "Layer (type)                 Output Shape              Param #   \n",
            "=================================================================\n",
            "conv2d_1 (Conv2D)            (None, 26, 26, 6)         60        \n",
            "_________________________________________________________________\n",
            "max_pooling2d_1 (MaxPooling2 (None, 13, 13, 6)         0         \n",
            "_________________________________________________________________\n",
            "conv2d_2 (Conv2D)            (None, 11, 11, 16)        880       \n",
            "_________________________________________________________________\n",
            "max_pooling2d_2 (MaxPooling2 (None, 5, 5, 16)          0         \n",
            "_________________________________________________________________\n",
            "flatten_1 (Flatten)          (None, 400)               0         \n",
            "_________________________________________________________________\n",
            "dense_1 (Dense)              (None, 120)               48120     \n",
            "_________________________________________________________________\n",
            "dense_2 (Dense)              (None, 84)                10164     \n",
            "_________________________________________________________________\n",
            "dense_3 (Dense)              (None, 10)                850       \n",
            "=================================================================\n",
            "Total params: 60,074\n",
            "Trainable params: 60,074\n",
            "Non-trainable params: 0\n",
            "_________________________________________________________________\n",
            "Model: \"sequential_2\"\n",
            "_________________________________________________________________\n",
            "Layer (type)                 Output Shape              Param #   \n",
            "=================================================================\n",
            "conv2d_3 (Conv2D)            (None, 24, 24, 6)         156       \n",
            "_________________________________________________________________\n",
            "max_pooling2d_3 (MaxPooling2 (None, 12, 12, 6)         0         \n",
            "_________________________________________________________________\n",
            "conv2d_4 (Conv2D)            (None, 8, 8, 16)          2416      \n",
            "_________________________________________________________________\n",
            "max_pooling2d_4 (MaxPooling2 (None, 4, 4, 16)          0         \n",
            "_________________________________________________________________\n",
            "flatten_2 (Flatten)          (None, 256)               0         \n",
            "_________________________________________________________________\n",
            "dense_4 (Dense)              (None, 120)               30840     \n",
            "_________________________________________________________________\n",
            "dense_5 (Dense)              (None, 84)                10164     \n",
            "_________________________________________________________________\n",
            "dense_6 (Dense)              (None, 10)                850       \n",
            "=================================================================\n",
            "Total params: 44,426\n",
            "Trainable params: 44,426\n",
            "Non-trainable params: 0\n",
            "_________________________________________________________________\n",
            "Model: \"sequential_3\"\n",
            "_________________________________________________________________\n",
            "Layer (type)                 Output Shape              Param #   \n",
            "=================================================================\n",
            "conv2d_5 (Conv2D)            (None, 26, 26, 12)        120       \n",
            "_________________________________________________________________\n",
            "max_pooling2d_5 (MaxPooling2 (None, 13, 13, 12)        0         \n",
            "_________________________________________________________________\n",
            "conv2d_6 (Conv2D)            (None, 11, 11, 24)        2616      \n",
            "_________________________________________________________________\n",
            "max_pooling2d_6 (MaxPooling2 (None, 5, 5, 24)          0         \n",
            "_________________________________________________________________\n",
            "flatten_3 (Flatten)          (None, 600)               0         \n",
            "_________________________________________________________________\n",
            "dense_7 (Dense)              (None, 120)               72120     \n",
            "_________________________________________________________________\n",
            "dense_8 (Dense)              (None, 84)                10164     \n",
            "_________________________________________________________________\n",
            "dense_9 (Dense)              (None, 10)                850       \n",
            "=================================================================\n",
            "Total params: 85,870\n",
            "Trainable params: 85,870\n",
            "Non-trainable params: 0\n",
            "_________________________________________________________________\n"
          ],
          "name": "stdout"
        }
      ]
    },
    {
      "cell_type": "code",
      "metadata": {
        "id": "TsR7nUxSXq0e",
        "colab_type": "code",
        "outputId": "13760f07-2b2e-412c-d254-04b17a9b5de1",
        "colab": {
          "base_uri": "https://localhost:8080/",
          "height": 905
        }
      },
      "source": [
        "model_fmaps.compile(loss=keras.losses.categorical_crossentropy,\n",
        "              optimizer=keras.optimizers.Adadelta(lr=1.0, rho=0.95, epsilon=None, decay=0.0),\n",
        "              metrics=['accuracy'])\n",
        "\n",
        "result_fmaps = model_fmaps.fit(x_train, y_train2,\n",
        "          batch_size=batch_size,\n",
        "          epochs=epochs,\n",
        "          verbose=1,\n",
        "          validation_data=(x_test, y_test2))\n",
        "score_fmaps = model_fmaps.evaluate(x_test, y_test2, verbose=0)\n",
        "print('Test loss:', score_fmaps[0])\n",
        "print('Test accuracy:', score_fmaps[1])\n"
      ],
      "execution_count": 7,
      "outputs": [
        {
          "output_type": "stream",
          "text": [
            "WARNING:tensorflow:From /usr/local/lib/python3.6/dist-packages/keras/optimizers.py:793: The name tf.train.Optimizer is deprecated. Please use tf.compat.v1.train.Optimizer instead.\n",
            "\n",
            "WARNING:tensorflow:From /usr/local/lib/python3.6/dist-packages/keras/backend/tensorflow_backend.py:3576: The name tf.log is deprecated. Please use tf.math.log instead.\n",
            "\n",
            "WARNING:tensorflow:From /usr/local/lib/python3.6/dist-packages/tensorflow_core/python/ops/math_grad.py:1424: where (from tensorflow.python.ops.array_ops) is deprecated and will be removed in a future version.\n",
            "Instructions for updating:\n",
            "Use tf.where in 2.0, which has the same broadcast rule as np.where\n",
            "WARNING:tensorflow:From /usr/local/lib/python3.6/dist-packages/keras/backend/tensorflow_backend.py:1033: The name tf.assign_add is deprecated. Please use tf.compat.v1.assign_add instead.\n",
            "\n",
            "WARNING:tensorflow:From /usr/local/lib/python3.6/dist-packages/keras/backend/tensorflow_backend.py:1020: The name tf.assign is deprecated. Please use tf.compat.v1.assign instead.\n",
            "\n",
            "WARNING:tensorflow:From /usr/local/lib/python3.6/dist-packages/keras/backend/tensorflow_backend.py:3005: The name tf.Session is deprecated. Please use tf.compat.v1.Session instead.\n",
            "\n",
            "Train on 60000 samples, validate on 10000 samples\n",
            "Epoch 1/12\n",
            "WARNING:tensorflow:From /usr/local/lib/python3.6/dist-packages/keras/backend/tensorflow_backend.py:190: The name tf.get_default_session is deprecated. Please use tf.compat.v1.get_default_session instead.\n",
            "\n",
            "WARNING:tensorflow:From /usr/local/lib/python3.6/dist-packages/keras/backend/tensorflow_backend.py:197: The name tf.ConfigProto is deprecated. Please use tf.compat.v1.ConfigProto instead.\n",
            "\n",
            "WARNING:tensorflow:From /usr/local/lib/python3.6/dist-packages/keras/backend/tensorflow_backend.py:207: The name tf.global_variables is deprecated. Please use tf.compat.v1.global_variables instead.\n",
            "\n",
            "WARNING:tensorflow:From /usr/local/lib/python3.6/dist-packages/keras/backend/tensorflow_backend.py:216: The name tf.is_variable_initialized is deprecated. Please use tf.compat.v1.is_variable_initialized instead.\n",
            "\n",
            "WARNING:tensorflow:From /usr/local/lib/python3.6/dist-packages/keras/backend/tensorflow_backend.py:223: The name tf.variables_initializer is deprecated. Please use tf.compat.v1.variables_initializer instead.\n",
            "\n",
            "60000/60000 [==============================] - 24s 406us/step - loss: 0.2985 - acc: 0.9074 - val_loss: 0.0873 - val_acc: 0.9715\n",
            "Epoch 2/12\n",
            "60000/60000 [==============================] - 24s 400us/step - loss: 0.0764 - acc: 0.9764 - val_loss: 0.0622 - val_acc: 0.9780\n",
            "Epoch 3/12\n",
            "60000/60000 [==============================] - 24s 398us/step - loss: 0.0550 - acc: 0.9829 - val_loss: 0.0375 - val_acc: 0.9873\n",
            "Epoch 4/12\n",
            "60000/60000 [==============================] - 24s 399us/step - loss: 0.0422 - acc: 0.9868 - val_loss: 0.0495 - val_acc: 0.9834\n",
            "Epoch 5/12\n",
            "60000/60000 [==============================] - 24s 397us/step - loss: 0.0341 - acc: 0.9892 - val_loss: 0.0429 - val_acc: 0.9853\n",
            "Epoch 6/12\n",
            "60000/60000 [==============================] - 24s 403us/step - loss: 0.0290 - acc: 0.9906 - val_loss: 0.0314 - val_acc: 0.9903\n",
            "Epoch 7/12\n",
            "60000/60000 [==============================] - 24s 394us/step - loss: 0.0243 - acc: 0.9917 - val_loss: 0.0305 - val_acc: 0.9896\n",
            "Epoch 8/12\n",
            "60000/60000 [==============================] - 24s 396us/step - loss: 0.0205 - acc: 0.9930 - val_loss: 0.0383 - val_acc: 0.9888\n",
            "Epoch 9/12\n",
            "60000/60000 [==============================] - 24s 394us/step - loss: 0.0176 - acc: 0.9944 - val_loss: 0.0365 - val_acc: 0.9891\n",
            "Epoch 10/12\n",
            "60000/60000 [==============================] - 24s 396us/step - loss: 0.0147 - acc: 0.9950 - val_loss: 0.0365 - val_acc: 0.9892\n",
            "Epoch 11/12\n",
            "60000/60000 [==============================] - 24s 394us/step - loss: 0.0129 - acc: 0.9959 - val_loss: 0.0316 - val_acc: 0.9914\n",
            "Epoch 12/12\n",
            "60000/60000 [==============================] - 24s 395us/step - loss: 0.0108 - acc: 0.9964 - val_loss: 0.0409 - val_acc: 0.9901\n",
            "Test loss: 0.040877181981930695\n",
            "Test accuracy: 0.9901\n"
          ],
          "name": "stdout"
        }
      ]
    },
    {
      "cell_type": "code",
      "metadata": {
        "id": "hRn8r1Q4yXgS",
        "colab_type": "code",
        "outputId": "8c2275dc-6678-42d4-9b2a-c3707bf59102",
        "colab": {
          "base_uri": "https://localhost:8080/",
          "height": 486
        }
      },
      "source": [
        "# https://keras.io/optimizers/ \n",
        "\n",
        "\n",
        "model_kernel.compile(loss=keras.losses.categorical_crossentropy,\n",
        "              optimizer=keras.optimizers.Adadelta(lr=1.0, rho=0.95, epsilon=None, decay=0.0),\n",
        "              metrics=['accuracy'])\n",
        "\n",
        "result_kernel = model_kernel.fit(x_train, y_train1,\n",
        "          batch_size=batch_size,\n",
        "          epochs=epochs,\n",
        "          verbose=1,\n",
        "          validation_data=(x_test, y_test1))\n",
        "score_kernel = model_kernel.evaluate(x_test, y_test1, verbose=0)\n",
        "print('Test loss:', score_kernel[0])\n",
        "print('Test accuracy:', score_kernel[1])\n"
      ],
      "execution_count": 8,
      "outputs": [
        {
          "output_type": "stream",
          "text": [
            "Train on 60000 samples, validate on 10000 samples\n",
            "Epoch 1/12\n",
            "60000/60000 [==============================] - 24s 397us/step - loss: 0.3064 - acc: 0.9018 - val_loss: 0.0964 - val_acc: 0.9695\n",
            "Epoch 2/12\n",
            "60000/60000 [==============================] - 23s 389us/step - loss: 0.0788 - acc: 0.9754 - val_loss: 0.0646 - val_acc: 0.9792\n",
            "Epoch 3/12\n",
            "60000/60000 [==============================] - 23s 388us/step - loss: 0.0565 - acc: 0.9826 - val_loss: 0.0479 - val_acc: 0.9843\n",
            "Epoch 4/12\n",
            "60000/60000 [==============================] - 23s 389us/step - loss: 0.0446 - acc: 0.9862 - val_loss: 0.0442 - val_acc: 0.9854\n",
            "Epoch 5/12\n",
            "60000/60000 [==============================] - 24s 392us/step - loss: 0.0379 - acc: 0.9885 - val_loss: 0.0395 - val_acc: 0.9876\n",
            "Epoch 6/12\n",
            "60000/60000 [==============================] - 24s 392us/step - loss: 0.0309 - acc: 0.9900 - val_loss: 0.0363 - val_acc: 0.9877\n",
            "Epoch 7/12\n",
            "60000/60000 [==============================] - 24s 397us/step - loss: 0.0270 - acc: 0.9917 - val_loss: 0.0444 - val_acc: 0.9875\n",
            "Epoch 8/12\n",
            "60000/60000 [==============================] - 23s 390us/step - loss: 0.0237 - acc: 0.9926 - val_loss: 0.0390 - val_acc: 0.9879\n",
            "Epoch 9/12\n",
            "60000/60000 [==============================] - 24s 392us/step - loss: 0.0202 - acc: 0.9936 - val_loss: 0.0326 - val_acc: 0.9903\n",
            "Epoch 10/12\n",
            "60000/60000 [==============================] - 23s 389us/step - loss: 0.0183 - acc: 0.9946 - val_loss: 0.0389 - val_acc: 0.9891\n",
            "Epoch 11/12\n",
            "60000/60000 [==============================] - 23s 384us/step - loss: 0.0161 - acc: 0.9947 - val_loss: 0.0408 - val_acc: 0.9885\n",
            "Epoch 12/12\n",
            "60000/60000 [==============================] - 23s 387us/step - loss: 0.0138 - acc: 0.9956 - val_loss: 0.0430 - val_acc: 0.9879\n",
            "Test loss: 0.04298207022881397\n",
            "Test accuracy: 0.9879\n"
          ],
          "name": "stdout"
        }
      ]
    },
    {
      "cell_type": "code",
      "metadata": {
        "id": "ugKTvS24queb",
        "colab_type": "code",
        "outputId": "0cdce6fd-56d7-4936-b507-3051a3a296e9",
        "colab": {
          "base_uri": "https://localhost:8080/",
          "height": 486
        }
      },
      "source": [
        "# https://keras.io/optimizers/ \n",
        "\n",
        "model.compile(loss=keras.losses.categorical_crossentropy,\n",
        "              optimizer=keras.optimizers.Adadelta(lr=1.0, rho=0.95, epsilon=None, decay=0.0),\n",
        "              metrics=['accuracy'])\n",
        "\n",
        "result = model.fit(x_train, y_train0,\n",
        "          batch_size=batch_size,\n",
        "          epochs=epochs,\n",
        "          verbose=1,\n",
        "          validation_data=(x_test, y_test0))\n",
        "score = model.evaluate(x_test, y_test0, verbose=0)\n",
        "print('Test loss:', score[0])\n",
        "print('Test accuracy:', score[1])\n"
      ],
      "execution_count": 9,
      "outputs": [
        {
          "output_type": "stream",
          "text": [
            "Train on 60000 samples, validate on 10000 samples\n",
            "Epoch 1/12\n",
            "60000/60000 [==============================] - 20s 337us/step - loss: 0.3845 - acc: 0.8905 - val_loss: 0.0858 - val_acc: 0.9718\n",
            "Epoch 2/12\n",
            "60000/60000 [==============================] - 20s 329us/step - loss: 0.0846 - acc: 0.9739 - val_loss: 0.1007 - val_acc: 0.9659\n",
            "Epoch 3/12\n",
            "60000/60000 [==============================] - 20s 328us/step - loss: 0.0610 - acc: 0.9808 - val_loss: 0.0845 - val_acc: 0.9749\n",
            "Epoch 4/12\n",
            "60000/60000 [==============================] - 20s 326us/step - loss: 0.0486 - acc: 0.9847 - val_loss: 0.0642 - val_acc: 0.9797\n",
            "Epoch 5/12\n",
            "60000/60000 [==============================] - 20s 327us/step - loss: 0.0414 - acc: 0.9868 - val_loss: 0.0483 - val_acc: 0.9843\n",
            "Epoch 6/12\n",
            "60000/60000 [==============================] - 20s 328us/step - loss: 0.0359 - acc: 0.9883 - val_loss: 0.0424 - val_acc: 0.9881\n",
            "Epoch 7/12\n",
            "60000/60000 [==============================] - 20s 329us/step - loss: 0.0301 - acc: 0.9905 - val_loss: 0.0412 - val_acc: 0.9872\n",
            "Epoch 8/12\n",
            "60000/60000 [==============================] - 20s 326us/step - loss: 0.0265 - acc: 0.9913 - val_loss: 0.0429 - val_acc: 0.9876\n",
            "Epoch 9/12\n",
            "60000/60000 [==============================] - 20s 328us/step - loss: 0.0235 - acc: 0.9926 - val_loss: 0.0338 - val_acc: 0.9910\n",
            "Epoch 10/12\n",
            "60000/60000 [==============================] - 20s 330us/step - loss: 0.0210 - acc: 0.9928 - val_loss: 0.0310 - val_acc: 0.9909\n",
            "Epoch 11/12\n",
            "60000/60000 [==============================] - 20s 327us/step - loss: 0.0181 - acc: 0.9940 - val_loss: 0.0399 - val_acc: 0.9883\n",
            "Epoch 12/12\n",
            "60000/60000 [==============================] - 20s 327us/step - loss: 0.0159 - acc: 0.9946 - val_loss: 0.0311 - val_acc: 0.9905\n",
            "Test loss: 0.031094431453217476\n",
            "Test accuracy: 0.9905\n"
          ],
          "name": "stdout"
        }
      ]
    },
    {
      "cell_type": "code",
      "metadata": {
        "id": "NnJcAWU3H2Uv",
        "colab_type": "code",
        "outputId": "f262662d-56e8-436c-bd20-0dac61cdee8c",
        "colab": {
          "base_uri": "https://localhost:8080/",
          "height": 295
        }
      },
      "source": [
        "acc = result.history['acc']\n",
        "val_acc = result.history['val_acc']\n",
        "\n",
        "epochs = range(1, len(acc) + 1)\n",
        "plt.plot(epochs, acc, color='red', label='Training acc')\n",
        "plt.plot(epochs, val_acc, color='green', label='validation acc')\n",
        "\n",
        "plt.title('Provided code\\'s Training and validation accuracy')\n",
        "plt.xlabel('Epochs')\n",
        "plt.ylabel('acc')\n",
        "plt.legend()\n",
        "plt.show()\n"
      ],
      "execution_count": 10,
      "outputs": [
        {
          "output_type": "display_data",
          "data": {
            "image/png": "[encoded data removed]",
            "text/plain": [
              "<Figure size 432x288 with 1 Axes>"
            ]
          },
          "metadata": {
            "tags": []
          }
        }
      ]
    },
    {
      "cell_type": "code",
      "metadata": {
        "id": "S_wHKogNOCT1",
        "colab_type": "code",
        "outputId": "75413125-fd6e-44e1-9e73-a86149a1ee71",
        "colab": {
          "base_uri": "https://localhost:8080/",
          "height": 295
        }
      },
      "source": [
        "acc_kernel = result_kernel.history['acc']\n",
        "val_acc_kernel = result_kernel.history['val_acc']\n",
        "\n",
        "epochs = range(1, len(acc_kernel) + 1)\n",
        "plt.plot(epochs, acc_kernel, color='red', label='Training acc')\n",
        "plt.plot(epochs, val_acc_kernel, color='green', label='validation acc')\n",
        "\n",
        "plt.title('Training and validation accuracy')\n",
        "plt.xlabel('Epochs')\n",
        "plt.ylabel('acc')\n",
        "plt.legend()\n",
        "plt.show()\n"
      ],
      "execution_count": 11,
      "outputs": [
        {
          "output_type": "display_data",
          "data": {
            "image/png": "[encoded data removed]",
            "text/plain": [
              "<Figure size 432x288 with 1 Axes>"
            ]
          },
          "metadata": {
            "tags": []
          }
        }
      ]
    },
    {
      "cell_type": "code",
      "metadata": {
        "id": "SxnTr9BmY5ns",
        "colab_type": "code",
        "outputId": "829c4faf-32b2-491e-c36e-e54ccb999d40",
        "colab": {
          "base_uri": "https://localhost:8080/",
          "height": 295
        }
      },
      "source": [
        "acc_fmaps = result_fmaps.history['acc']\n",
        "val_acc_fmaps = result_fmaps.history['val_acc']\n",
        "\n",
        "epochs = range(1, len(acc_fmaps) + 1)\n",
        "plt.plot(epochs, acc_fmaps, color='red', label='Training acc')\n",
        "plt.plot(epochs, val_acc_fmaps, color='green', label='validation acc')\n",
        "\n",
        "plt.title('Training and validation accuracy')\n",
        "plt.xlabel('Epochs')\n",
        "plt.ylabel('acc')\n",
        "plt.legend()\n",
        "plt.show()\n"
      ],
      "execution_count": 12,
      "outputs": [
        {
          "output_type": "display_data",
          "data": {
            "image/png": "[encoded data removed]",
            "text/plain": [
              "<Figure size 432x288 with 1 Axes>"
            ]
          },
          "metadata": {
            "tags": []
          }
        }
      ]
    }
  ]
}